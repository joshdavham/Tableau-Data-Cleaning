{
 "cells": [
  {
   "cell_type": "code",
   "execution_count": 1,
   "id": "3d389dcb",
   "metadata": {},
   "outputs": [],
   "source": [
    "import pandas as pd\n",
    "\n",
    "#functions used for the simulation\n",
    "from functions import *"
   ]
  },
  {
   "cell_type": "code",
   "execution_count": 2,
   "id": "a4983cf1",
   "metadata": {},
   "outputs": [],
   "source": [
    "#Frequency list of all French words\n",
    "freq_list = pd.read_csv('freq_list.csv')"
   ]
  },
  {
   "cell_type": "markdown",
   "id": "1e912b98",
   "metadata": {},
   "source": [
    "# The Simulation"
   ]
  },
  {
   "cell_type": "markdown",
   "id": "8a741a44",
   "metadata": {},
   "source": [
    "## Harry Potter"
   ]
  },
  {
   "cell_type": "code",
   "execution_count": 3,
   "id": "dc26e9a7",
   "metadata": {},
   "outputs": [
    {
     "name": "stdout",
     "output_type": "stream",
     "text": [
      "Initial Vocabulary Size: 2000 words.\n",
      "------------------------------------\n",
      "\n",
      "Harry Potter 1\n",
      "-Vocabulary Size after reading Book: 3384 \n",
      "\n",
      "Harry Potter 2\n",
      "-Vocabulary Size after reading Book: 4623 \n",
      "\n",
      "Harry Potter 3\n",
      "-Vocabulary Size after reading Book: 5765 \n",
      "\n",
      "Harry Potter 4\n",
      "-Vocabulary Size after reading Book: 7278 \n",
      "\n",
      "Harry Potter 5\n",
      "-Vocabulary Size after reading Book: 8739 \n",
      "\n",
      "Harry Potter 6\n",
      "-Vocabulary Size after reading Book: 9522 \n",
      "\n",
      "Harry Potter 7\n",
      "-Vocabulary Size after reading Book: 10282 \n",
      "\n"
     ]
    }
   ],
   "source": [
    "#a list of all the harry potter books we will consider for the analysis\n",
    "books_list = ['Harry Potter/1/', 'Harry Potter/2/', 'Harry Potter/3/', 'Harry Potter/4/', 'Harry Potter/5/', \n",
    "         'Harry Potter/6/', 'Harry Potter/7/']\n",
    "\n",
    "\n",
    "#load the relevant book and word-frequency data for the simulation\n",
    "book_dfs, freq_list_series = load_data(books_list)\n",
    "\n",
    "#run the simulation for different intial vocabulary sizes\n",
    "for vocab_size_init in [2000]:\n",
    "    \n",
    "    #run the simulation with given initial vocab size\n",
    "    learned_words_data_HP, known_words_HP = one_T_simulation(books_list, book_dfs, freq_list, freq_list_series, vocab_size_init)\n",
    "\n",
    "    #save the simulation results\n",
    "    learned_words_data_HP.to_csv('Harry Potter/learned_words_data_' + str(vocab_size_init)  +  '.csv', index=False)\n",
    "    known_words_HP.to_csv('Harry Potter/known_words_' + str(vocab_size_init)  +  '.csv', index=True)"
   ]
  }
 ],
 "metadata": {
  "kernelspec": {
   "display_name": "Python 3 (ipykernel)",
   "language": "python",
   "name": "python3"
  },
  "language_info": {
   "codemirror_mode": {
    "name": "ipython",
    "version": 3
   },
   "file_extension": ".py",
   "mimetype": "text/x-python",
   "name": "python",
   "nbconvert_exporter": "python",
   "pygments_lexer": "ipython3",
   "version": "3.8.12"
  }
 },
 "nbformat": 4,
 "nbformat_minor": 5
}
