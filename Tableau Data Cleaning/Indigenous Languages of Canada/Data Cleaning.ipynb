{
 "cells": [
  {
   "cell_type": "code",
   "execution_count": 1,
   "id": "dd44c0d4",
   "metadata": {},
   "outputs": [],
   "source": [
    "import numpy as np\n",
    "import pandas as pd"
   ]
  },
  {
   "cell_type": "code",
   "execution_count": 2,
   "id": "1bfdfba9",
   "metadata": {},
   "outputs": [],
   "source": [
    "df = pd.read_csv('indg_langs_orig.csv')"
   ]
  },
  {
   "cell_type": "code",
   "execution_count": 3,
   "id": "05f11394",
   "metadata": {},
   "outputs": [
    {
     "data": {
      "text/html": [
       "<div>\n",
       "<style scoped>\n",
       "    .dataframe tbody tr th:only-of-type {\n",
       "        vertical-align: middle;\n",
       "    }\n",
       "\n",
       "    .dataframe tbody tr th {\n",
       "        vertical-align: top;\n",
       "    }\n",
       "\n",
       "    .dataframe thead th {\n",
       "        text-align: right;\n",
       "    }\n",
       "</style>\n",
       "<table border=\"1\" class=\"dataframe\">\n",
       "  <thead>\n",
       "    <tr style=\"text-align: right;\">\n",
       "      <th></th>\n",
       "      <th>Geographic code</th>\n",
       "      <th>Geographic name</th>\n",
       "      <th>Global non-response rate</th>\n",
       "      <th>Data quality flag</th>\n",
       "      <th>Aboriginal languages</th>\n",
       "      <th>Mother tongue</th>\n",
       "      <th>Language spoken most often at home</th>\n",
       "      <th>Other language(s) spoken regularly at home</th>\n",
       "    </tr>\n",
       "  </thead>\n",
       "  <tbody>\n",
       "    <tr>\n",
       "      <th>0</th>\n",
       "      <td>1</td>\n",
       "      <td>Canada</td>\n",
       "      <td>4.0</td>\n",
       "      <td>20000</td>\n",
       "      <td>Aboriginal languages</td>\n",
       "      <td>213225</td>\n",
       "      <td>137515</td>\n",
       "      <td>91780</td>\n",
       "    </tr>\n",
       "    <tr>\n",
       "      <th>1</th>\n",
       "      <td>1</td>\n",
       "      <td>Canada</td>\n",
       "      <td>4.0</td>\n",
       "      <td>20000</td>\n",
       "      <td>Algonquian languages</td>\n",
       "      <td>143160</td>\n",
       "      <td>89795</td>\n",
       "      <td>63820</td>\n",
       "    </tr>\n",
       "    <tr>\n",
       "      <th>2</th>\n",
       "      <td>1</td>\n",
       "      <td>Canada</td>\n",
       "      <td>4.0</td>\n",
       "      <td>20000</td>\n",
       "      <td>Blackfoot</td>\n",
       "      <td>3465</td>\n",
       "      <td>1855</td>\n",
       "      <td>3090</td>\n",
       "    </tr>\n",
       "    <tr>\n",
       "      <th>3</th>\n",
       "      <td>1</td>\n",
       "      <td>Canada</td>\n",
       "      <td>4.0</td>\n",
       "      <td>20000</td>\n",
       "      <td>Cree-Montagnais languages</td>\n",
       "      <td>96260</td>\n",
       "      <td>64825</td>\n",
       "      <td>37955</td>\n",
       "    </tr>\n",
       "    <tr>\n",
       "      <th>4</th>\n",
       "      <td>1</td>\n",
       "      <td>Canada</td>\n",
       "      <td>4.0</td>\n",
       "      <td>20000</td>\n",
       "      <td>Atikamekw</td>\n",
       "      <td>6295</td>\n",
       "      <td>5810</td>\n",
       "      <td>580</td>\n",
       "    </tr>\n",
       "  </tbody>\n",
       "</table>\n",
       "</div>"
      ],
      "text/plain": [
       "   Geographic code Geographic name  Global non-response rate  \\\n",
       "0                1          Canada                       4.0   \n",
       "1                1          Canada                       4.0   \n",
       "2                1          Canada                       4.0   \n",
       "3                1          Canada                       4.0   \n",
       "4                1          Canada                       4.0   \n",
       "\n",
       "   Data quality flag          Aboriginal languages  Mother tongue  \\\n",
       "0              20000          Aboriginal languages         213225   \n",
       "1              20000          Algonquian languages         143160   \n",
       "2              20000                     Blackfoot           3465   \n",
       "3              20000     Cree-Montagnais languages          96260   \n",
       "4              20000                     Atikamekw           6295   \n",
       "\n",
       "   Language spoken most often at home  \\\n",
       "0                              137515   \n",
       "1                               89795   \n",
       "2                                1855   \n",
       "3                               64825   \n",
       "4                                5810   \n",
       "\n",
       "   Other language(s) spoken regularly at home  \n",
       "0                                       91780  \n",
       "1                                       63820  \n",
       "2                                        3090  \n",
       "3                                       37955  \n",
       "4                                         580  "
      ]
     },
     "execution_count": 3,
     "metadata": {},
     "output_type": "execute_result"
    }
   ],
   "source": [
    "df.head()"
   ]
  },
  {
   "cell_type": "markdown",
   "id": "f61e33d0",
   "metadata": {},
   "source": [
    "Any entry specified under Aboriginal languages as 'X languages' will be removed since these are cumulative variables for total speakers of language families."
   ]
  },
  {
   "cell_type": "code",
   "execution_count": 4,
   "id": "a7e1b504",
   "metadata": {},
   "outputs": [],
   "source": [
    "df = df.loc[~df['Aboriginal languages'].str.contains('languages', case=False)]"
   ]
  },
  {
   "cell_type": "markdown",
   "id": "d49e1970",
   "metadata": {},
   "source": [
    "Delete all Canada-specific entries. Just keep the provinces."
   ]
  },
  {
   "cell_type": "code",
   "execution_count": 5,
   "id": "202d2d4d",
   "metadata": {},
   "outputs": [],
   "source": [
    "df = df.loc[df['Geographic name'] != \"Canada\"]"
   ]
  },
  {
   "cell_type": "markdown",
   "id": "e64044f1",
   "metadata": {},
   "source": [
    "Reset the index for it to not give away the idea that it could be missing rows."
   ]
  },
  {
   "cell_type": "code",
   "execution_count": 6,
   "id": "97f59651",
   "metadata": {},
   "outputs": [],
   "source": [
    "df = df.reset_index(drop=True)"
   ]
  },
  {
   "cell_type": "markdown",
   "id": "6d77dfaf",
   "metadata": {},
   "source": [
    "Keep only the informative rows I want."
   ]
  },
  {
   "cell_type": "code",
   "execution_count": 7,
   "id": "fd57efe0",
   "metadata": {},
   "outputs": [],
   "source": [
    "df = df[['Geographic name', 'Aboriginal languages', 'Mother tongue']]"
   ]
  },
  {
   "cell_type": "markdown",
   "id": "fe7f7ee7",
   "metadata": {},
   "source": [
    "Add a new column specifying Canada in each row for the Tableau map to work."
   ]
  },
  {
   "cell_type": "code",
   "execution_count": 8,
   "id": "50c4ecfd",
   "metadata": {},
   "outputs": [],
   "source": [
    "df.at[:,'Country'] = 'Canada'"
   ]
  },
  {
   "cell_type": "markdown",
   "id": "6fef1c87",
   "metadata": {},
   "source": [
    "Order the columns to in a more logical fashion."
   ]
  },
  {
   "cell_type": "code",
   "execution_count": 9,
   "id": "9af6593b",
   "metadata": {},
   "outputs": [],
   "source": [
    "df = df[['Country', 'Geographic name', 'Aboriginal languages', 'Mother tongue']]"
   ]
  },
  {
   "cell_type": "code",
   "execution_count": 10,
   "id": "500a76f5",
   "metadata": {},
   "outputs": [
    {
     "data": {
      "text/html": [
       "<div>\n",
       "<style scoped>\n",
       "    .dataframe tbody tr th:only-of-type {\n",
       "        vertical-align: middle;\n",
       "    }\n",
       "\n",
       "    .dataframe tbody tr th {\n",
       "        vertical-align: top;\n",
       "    }\n",
       "\n",
       "    .dataframe thead th {\n",
       "        text-align: right;\n",
       "    }\n",
       "</style>\n",
       "<table border=\"1\" class=\"dataframe\">\n",
       "  <thead>\n",
       "    <tr style=\"text-align: right;\">\n",
       "      <th></th>\n",
       "      <th>Country</th>\n",
       "      <th>Geographic name</th>\n",
       "      <th>Aboriginal languages</th>\n",
       "      <th>Mother tongue</th>\n",
       "    </tr>\n",
       "  </thead>\n",
       "  <tbody>\n",
       "    <tr>\n",
       "      <th>0</th>\n",
       "      <td>Canada</td>\n",
       "      <td>Newfoundland and Labrador</td>\n",
       "      <td>Blackfoot</td>\n",
       "      <td>0</td>\n",
       "    </tr>\n",
       "    <tr>\n",
       "      <th>1</th>\n",
       "      <td>Canada</td>\n",
       "      <td>Newfoundland and Labrador</td>\n",
       "      <td>Atikamekw</td>\n",
       "      <td>0</td>\n",
       "    </tr>\n",
       "    <tr>\n",
       "      <th>2</th>\n",
       "      <td>Canada</td>\n",
       "      <td>Newfoundland and Labrador</td>\n",
       "      <td>Montagnais (Innu)</td>\n",
       "      <td>1535</td>\n",
       "    </tr>\n",
       "    <tr>\n",
       "      <th>3</th>\n",
       "      <td>Canada</td>\n",
       "      <td>Newfoundland and Labrador</td>\n",
       "      <td>Moose Cree</td>\n",
       "      <td>0</td>\n",
       "    </tr>\n",
       "    <tr>\n",
       "      <th>4</th>\n",
       "      <td>Canada</td>\n",
       "      <td>Newfoundland and Labrador</td>\n",
       "      <td>Naskapi</td>\n",
       "      <td>605</td>\n",
       "    </tr>\n",
       "  </tbody>\n",
       "</table>\n",
       "</div>"
      ],
      "text/plain": [
       "  Country            Geographic name    Aboriginal languages  Mother tongue\n",
       "0  Canada  Newfoundland and Labrador               Blackfoot              0\n",
       "1  Canada  Newfoundland and Labrador               Atikamekw              0\n",
       "2  Canada  Newfoundland and Labrador       Montagnais (Innu)           1535\n",
       "3  Canada  Newfoundland and Labrador              Moose Cree              0\n",
       "4  Canada  Newfoundland and Labrador                 Naskapi            605"
      ]
     },
     "execution_count": 10,
     "metadata": {},
     "output_type": "execute_result"
    }
   ],
   "source": [
    "df.head()"
   ]
  },
  {
   "cell_type": "markdown",
   "id": "f05a51b1",
   "metadata": {},
   "source": [
    "There's a bunch of whitespace in the spelling for a bunch of the aboriginal languages."
   ]
  },
  {
   "cell_type": "code",
   "execution_count": 11,
   "id": "7bc7f64a",
   "metadata": {},
   "outputs": [],
   "source": [
    "df['Aboriginal languages'] = df['Aboriginal languages'].str.strip()"
   ]
  },
  {
   "cell_type": "markdown",
   "id": "592c90c8",
   "metadata": {},
   "source": [
    "We're gonna edit the 'n.o.s.' ('not otherwise specified') languages since the acronym is confusing."
   ]
  },
  {
   "cell_type": "code",
   "execution_count": 12,
   "id": "1fbd5805",
   "metadata": {},
   "outputs": [],
   "source": [
    "#convert the language column to a list for ease\n",
    "langs = list(df['Aboriginal languages'])\n",
    "\n",
    "#function for getting rid of the n.o.s. languages\n",
    "def no_nos(lang):\n",
    "    \n",
    "    result = lang\n",
    "    \n",
    "    if lang == 'Cree, n.o.s.':\n",
    "        \n",
    "        result = 'Cree'\n",
    "        \n",
    "    elif lang == 'Slavey, n.o.s.':\n",
    "        \n",
    "        result = 'Slavey'\n",
    "        \n",
    "    return result\n",
    "\n",
    "#now the confusing n.o.s.'s are out of the way\n",
    "df['Aboriginal languages'] = [no_nos(lang) for lang in langs]"
   ]
  },
  {
   "cell_type": "code",
   "execution_count": 13,
   "id": "e9e2f7de",
   "metadata": {},
   "outputs": [
    {
     "data": {
      "text/html": [
       "<div>\n",
       "<style scoped>\n",
       "    .dataframe tbody tr th:only-of-type {\n",
       "        vertical-align: middle;\n",
       "    }\n",
       "\n",
       "    .dataframe tbody tr th {\n",
       "        vertical-align: top;\n",
       "    }\n",
       "\n",
       "    .dataframe thead th {\n",
       "        text-align: right;\n",
       "    }\n",
       "</style>\n",
       "<table border=\"1\" class=\"dataframe\">\n",
       "  <thead>\n",
       "    <tr style=\"text-align: right;\">\n",
       "      <th></th>\n",
       "      <th>Country</th>\n",
       "      <th>Geographic name</th>\n",
       "      <th>Aboriginal languages</th>\n",
       "      <th>Mother tongue</th>\n",
       "    </tr>\n",
       "  </thead>\n",
       "  <tbody>\n",
       "    <tr>\n",
       "      <th>0</th>\n",
       "      <td>Canada</td>\n",
       "      <td>Newfoundland and Labrador</td>\n",
       "      <td>Blackfoot</td>\n",
       "      <td>0</td>\n",
       "    </tr>\n",
       "    <tr>\n",
       "      <th>1</th>\n",
       "      <td>Canada</td>\n",
       "      <td>Newfoundland and Labrador</td>\n",
       "      <td>Atikamekw</td>\n",
       "      <td>0</td>\n",
       "    </tr>\n",
       "    <tr>\n",
       "      <th>2</th>\n",
       "      <td>Canada</td>\n",
       "      <td>Newfoundland and Labrador</td>\n",
       "      <td>Montagnais (Innu)</td>\n",
       "      <td>1535</td>\n",
       "    </tr>\n",
       "    <tr>\n",
       "      <th>3</th>\n",
       "      <td>Canada</td>\n",
       "      <td>Newfoundland and Labrador</td>\n",
       "      <td>Moose Cree</td>\n",
       "      <td>0</td>\n",
       "    </tr>\n",
       "    <tr>\n",
       "      <th>4</th>\n",
       "      <td>Canada</td>\n",
       "      <td>Newfoundland and Labrador</td>\n",
       "      <td>Naskapi</td>\n",
       "      <td>605</td>\n",
       "    </tr>\n",
       "  </tbody>\n",
       "</table>\n",
       "</div>"
      ],
      "text/plain": [
       "  Country            Geographic name Aboriginal languages  Mother tongue\n",
       "0  Canada  Newfoundland and Labrador            Blackfoot              0\n",
       "1  Canada  Newfoundland and Labrador            Atikamekw              0\n",
       "2  Canada  Newfoundland and Labrador    Montagnais (Innu)           1535\n",
       "3  Canada  Newfoundland and Labrador           Moose Cree              0\n",
       "4  Canada  Newfoundland and Labrador              Naskapi            605"
      ]
     },
     "execution_count": 13,
     "metadata": {},
     "output_type": "execute_result"
    }
   ],
   "source": [
    "df.head()"
   ]
  },
  {
   "cell_type": "markdown",
   "id": "43a78e39",
   "metadata": {},
   "source": [
    "Find the most spoken language per `Geographic name`."
   ]
  },
  {
   "cell_type": "code",
   "execution_count": 14,
   "id": "ba22b6e8",
   "metadata": {},
   "outputs": [],
   "source": [
    "#create new column\n",
    "df['Most spoken'] = ''"
   ]
  },
  {
   "cell_type": "code",
   "execution_count": 15,
   "id": "69d73129",
   "metadata": {},
   "outputs": [],
   "source": [
    "#how many speakers the most spoken language has\n",
    "most_common_lang = df.groupby(['Geographic name']).max()['Mother tongue']"
   ]
  },
  {
   "cell_type": "code",
   "execution_count": 16,
   "id": "d8dceac3",
   "metadata": {},
   "outputs": [],
   "source": [
    "#fill in the new column specifying most spoken languages\n",
    "for region in most_common_lang.keys():\n",
    "    \n",
    "    #find the most spken language for the given region\n",
    "    row = df.loc[(df['Geographic name'] == region) & (df['Mother tongue'] == most_common_lang[region])]    \n",
    "    row = row.reset_index(drop=True)\n",
    "    most_spoken = row.loc[0,'Aboriginal languages']\n",
    "    \n",
    "    #fill the column 'Most spoken' for the given 'Geographic name'\n",
    "    df.loc[df['Geographic name'] == region, 'Most spoken'] = most_spoken"
   ]
  },
  {
   "cell_type": "code",
   "execution_count": 17,
   "id": "a52787d0",
   "metadata": {},
   "outputs": [
    {
     "data": {
      "text/html": [
       "<div>\n",
       "<style scoped>\n",
       "    .dataframe tbody tr th:only-of-type {\n",
       "        vertical-align: middle;\n",
       "    }\n",
       "\n",
       "    .dataframe tbody tr th {\n",
       "        vertical-align: top;\n",
       "    }\n",
       "\n",
       "    .dataframe thead th {\n",
       "        text-align: right;\n",
       "    }\n",
       "</style>\n",
       "<table border=\"1\" class=\"dataframe\">\n",
       "  <thead>\n",
       "    <tr style=\"text-align: right;\">\n",
       "      <th></th>\n",
       "      <th>Country</th>\n",
       "      <th>Geographic name</th>\n",
       "      <th>Aboriginal languages</th>\n",
       "      <th>Mother tongue</th>\n",
       "      <th>Most spoken</th>\n",
       "    </tr>\n",
       "  </thead>\n",
       "  <tbody>\n",
       "    <tr>\n",
       "      <th>0</th>\n",
       "      <td>Canada</td>\n",
       "      <td>Newfoundland and Labrador</td>\n",
       "      <td>Blackfoot</td>\n",
       "      <td>0</td>\n",
       "      <td>Montagnais (Innu)</td>\n",
       "    </tr>\n",
       "    <tr>\n",
       "      <th>1</th>\n",
       "      <td>Canada</td>\n",
       "      <td>Newfoundland and Labrador</td>\n",
       "      <td>Atikamekw</td>\n",
       "      <td>0</td>\n",
       "      <td>Montagnais (Innu)</td>\n",
       "    </tr>\n",
       "    <tr>\n",
       "      <th>2</th>\n",
       "      <td>Canada</td>\n",
       "      <td>Newfoundland and Labrador</td>\n",
       "      <td>Montagnais (Innu)</td>\n",
       "      <td>1535</td>\n",
       "      <td>Montagnais (Innu)</td>\n",
       "    </tr>\n",
       "    <tr>\n",
       "      <th>3</th>\n",
       "      <td>Canada</td>\n",
       "      <td>Newfoundland and Labrador</td>\n",
       "      <td>Moose Cree</td>\n",
       "      <td>0</td>\n",
       "      <td>Montagnais (Innu)</td>\n",
       "    </tr>\n",
       "    <tr>\n",
       "      <th>4</th>\n",
       "      <td>Canada</td>\n",
       "      <td>Newfoundland and Labrador</td>\n",
       "      <td>Naskapi</td>\n",
       "      <td>605</td>\n",
       "      <td>Montagnais (Innu)</td>\n",
       "    </tr>\n",
       "  </tbody>\n",
       "</table>\n",
       "</div>"
      ],
      "text/plain": [
       "  Country            Geographic name Aboriginal languages  Mother tongue  \\\n",
       "0  Canada  Newfoundland and Labrador            Blackfoot              0   \n",
       "1  Canada  Newfoundland and Labrador            Atikamekw              0   \n",
       "2  Canada  Newfoundland and Labrador    Montagnais (Innu)           1535   \n",
       "3  Canada  Newfoundland and Labrador           Moose Cree              0   \n",
       "4  Canada  Newfoundland and Labrador              Naskapi            605   \n",
       "\n",
       "         Most spoken  \n",
       "0  Montagnais (Innu)  \n",
       "1  Montagnais (Innu)  \n",
       "2  Montagnais (Innu)  \n",
       "3  Montagnais (Innu)  \n",
       "4  Montagnais (Innu)  "
      ]
     },
     "execution_count": 17,
     "metadata": {},
     "output_type": "execute_result"
    }
   ],
   "source": [
    "df.head()"
   ]
  },
  {
   "cell_type": "markdown",
   "id": "24c6b144",
   "metadata": {},
   "source": [
    "Save the dataframe."
   ]
  },
  {
   "cell_type": "code",
   "execution_count": 18,
   "id": "aa79f155",
   "metadata": {},
   "outputs": [],
   "source": [
    "df.to_csv('indg_langs.csv', index=False)"
   ]
  }
 ],
 "metadata": {
  "kernelspec": {
   "display_name": "Python 3 (ipykernel)",
   "language": "python",
   "name": "python3"
  },
  "language_info": {
   "codemirror_mode": {
    "name": "ipython",
    "version": 3
   },
   "file_extension": ".py",
   "mimetype": "text/x-python",
   "name": "python",
   "nbconvert_exporter": "python",
   "pygments_lexer": "ipython3",
   "version": "3.8.12"
  }
 },
 "nbformat": 4,
 "nbformat_minor": 5
}
